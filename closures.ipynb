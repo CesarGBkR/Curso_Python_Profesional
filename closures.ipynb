{
 "cells": [
  {
   "cell_type": "markdown",
   "metadata": {},
   "source": [
    "## Closures"
   ]
  },
  {
   "cell_type": "markdown",
   "metadata": {},
   "source": [
    "Closure es un concepto que se refiere al conjunto de una **función mayor anidada a una menor, donde la función de alcance menor\n",
    "hace uso de una varible definida en el alcance superior y donde la función mayor retorne el uso función menor**\n",
    "\n",
    "**Ejemplo:**"
   ]
  },
  {
   "cell_type": "code",
   "execution_count": null,
   "metadata": {},
   "outputs": [],
   "source": [
    "def funcionMayor():\n",
    "    a = 22\n",
    "    def funcionMenor(): # nested function\n",
    "        print(a)\n",
    "    return funcionMenor\n"
   ]
  },
  {
   "cell_type": "markdown",
   "metadata": {},
   "source": [
    "Una de las cararacterísticas de estas funciones, es que se **puede almacenar el valor de la función dentro de una nueva variable**\n",
    "Esta nueva variable se convierte en una función con las caracteristicas completas de la asignada, así **se puede hacer\n",
    "uso de todo el fragmento de código asignado de una forma fácil.**\n",
    "\n",
    "**Ejemplo de asignación:**"
   ]
  },
  {
   "cell_type": "code",
   "execution_count": null,
   "metadata": {},
   "outputs": [],
   "source": [
    "my_funct = funcionMayor()\n",
    "my_funct()"
   ]
  },
  {
   "cell_type": "markdown",
   "metadata": {},
   "source": [
    "Otra de las carácteristicas y ventajas de usar Closures, es que **al quedarse guardado el valor del código dentro de una nueva variable,\n",
    "este valor permanece aún cuando se haya eliminado la función**\n",
    "\n",
    "**Ejemplo:**"
   ]
  },
  {
   "cell_type": "code",
   "execution_count": null,
   "metadata": {},
   "outputs": [],
   "source": [
    "del(funcionMayor)\n",
    "my_funct()"
   ]
  }
 ],
 "metadata": {
  "kernelspec": {
   "display_name": "Python 3.10.5 64-bit (windows store)",
   "language": "python",
   "name": "python3"
  },
  "language_info": {
   "name": "python",
   "version": "3.10.5"
  },
  "orig_nbformat": 4,
  "vscode": {
   "interpreter": {
    "hash": "8087080aba26fb2bd6ac4781d5e8f5b1fcc58b66b12b9d11fb271d3c71b9e510"
   }
  }
 },
 "nbformat": 4,
 "nbformat_minor": 2
}
