{
 "cells": [
  {
   "cell_type": "markdown",
   "metadata": {},
   "source": [
    "## Decoradores"
   ]
  },
  {
   "cell_type": "markdown",
   "metadata": {},
   "source": [
    "Los decoradores **son Closures que reciben como parámetro otra función y que dentro de su función menor, le agrega atriburos a la función usada como argumento en la función mayor** *(la \"decora\")*.\n",
    "\n",
    "**Ejemplo:**"
   ]
  },
  {
   "cell_type": "code",
   "execution_count": 1,
   "metadata": {},
   "outputs": [
    {
     "name": "stdout",
     "output_type": "stream",
     "text": [
      "Regalo\n",
      "Envuelto ✔\n"
     ]
    }
   ],
   "source": [
    "def decorador(func):\n",
    "    def envoltura():\n",
    "        print('Envuelto ✔')\n",
    "    func()\n",
    "    return envoltura\n",
    "def regalo():\n",
    "    print('Regalo')\n",
    "\n",
    "regalo=decorador(regalo)\n",
    "regalo()"
   ]
  },
  {
   "cell_type": "markdown",
   "metadata": {},
   "source": [
    "Para facilitar agregar decoradores, tenemos su **azúcar sintático.***\n",
    "En lugar de agregar el decorador inmediatamente después de la función, **podemos agregarlo antes de definir la función anteponiendo un \"@\" al nombre del decorador.**\n",
    "\n",
    "**(En informática, el azúcar sintáctico es un término acuñado por Peter J. Landin en 1964 para referirse a los añadidos a la sintaxis de un lenguaje de programación diseñados para hacer algunas construcciones más fáciles de leer o expresar.)*\n",
    "\n",
    "**Ejemplo:**"
   ]
  },
  {
   "cell_type": "code",
   "execution_count": 4,
   "metadata": {},
   "outputs": [
    {
     "name": "stdout",
     "output_type": "stream",
     "text": [
      "Regalo\n",
      "Envuelto ✔\n"
     ]
    }
   ],
   "source": [
    "def decorador(func):\n",
    "    def envoltura():\n",
    "        print('Envuelto ✔')\n",
    "    func()\n",
    "    return envoltura\n",
    "\n",
    "@decorador   # Decorador con azúcar sintático\n",
    "def regalo():\n",
    "    print('Regalo')\n",
    "\n",
    "regalo()"
   ]
  }
 ],
 "metadata": {
  "kernelspec": {
   "display_name": "Python 3.10.5 64-bit (windows store)",
   "language": "python",
   "name": "python3"
  },
  "language_info": {
   "codemirror_mode": {
    "name": "ipython",
    "version": 3
   },
   "file_extension": ".py",
   "mimetype": "text/x-python",
   "name": "python",
   "nbconvert_exporter": "python",
   "pygments_lexer": "ipython3",
   "version": "3.10.5"
  },
  "orig_nbformat": 4,
  "vscode": {
   "interpreter": {
    "hash": "8087080aba26fb2bd6ac4781d5e8f5b1fcc58b66b12b9d11fb271d3c71b9e510"
   }
  }
 },
 "nbformat": 4,
 "nbformat_minor": 2
}
