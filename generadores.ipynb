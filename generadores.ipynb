{
 "cells": [
  {
   "cell_type": "markdown",
   "metadata": {},
   "source": [
    "## Generadores\n",
    "Los generadores pueden ser considerados **la *\"azúcar sintática\"* de los iteradores**, pues cumplen con la misma función en menos líneas de código.\n",
    "Los generadores usan una sintaxis diferente que profundizaremos con el siguiente...\n",
    "\n",
    "**Ejemplo:**"
   ]
  },
  {
   "cell_type": "code",
   "execution_count": 4,
   "metadata": {},
   "outputs": [
    {
     "name": "stdout",
     "output_type": "stream",
     "text": [
      "Soy princiante\n",
      "0\n",
      "Estudié y ahora soy intermedio\n",
      "1\n",
      "Finalmente Profesional!!\n",
      "2\n"
     ]
    }
   ],
   "source": [
    "def my_gen():\n",
    "    # Un ejemplo de generadores\n",
    "    print('Soy princiante')\n",
    "    n = 0\n",
    "    yield n # YIELD es cumple la misma función que un RETURN, variando solo en que este almacena la linea en la que se entregó\n",
    "            # y continúa el proceso a partir de esta \n",
    "    \n",
    "    print('Estudié y ahora soy intermedio')\n",
    "    n = 1\n",
    "    yield n\n",
    "    \n",
    "    print('Finalmente Profesional!!')\n",
    "    n = 2\n",
    "    yield n\n",
    "\n",
    "avances = my_gen()\n",
    "print(next(avances))\n",
    "print(next(avances))\n",
    "print(next(avances))"
   ]
  }
 ],
 "metadata": {
  "kernelspec": {
   "display_name": "Python 3.9.12 ('base')",
   "language": "python",
   "name": "python3"
  },
  "language_info": {
   "codemirror_mode": {
    "name": "ipython",
    "version": 3
   },
   "file_extension": ".py",
   "mimetype": "text/x-python",
   "name": "python",
   "nbconvert_exporter": "python",
   "pygments_lexer": "ipython3",
   "version": "3.9.12"
  },
  "orig_nbformat": 4,
  "vscode": {
   "interpreter": {
    "hash": "893bc00c7d71cea6cec0925124a58befc248cc84d867c45f41f4f880e026ef2f"
   }
  }
 },
 "nbformat": 4,
 "nbformat_minor": 2
}
