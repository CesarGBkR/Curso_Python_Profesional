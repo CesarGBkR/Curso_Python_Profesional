{
 "cells": [
  {
   "cell_type": "markdown",
   "metadata": {},
   "source": [
    "## Tipados\n",
    "### ¿Qué son los tipados?\n",
    "Antes de definir que son los tipados, es importante recordar que es un tipo y cuantos hay.\n",
    "Los tipos son formas\n",
    "| Tipos de Datos | Descripción | Memoria |\n",
    "| -- | -- | -- |\n",
    "| bool   | Booleano                       | 1 byte                 | \n",
    "| char   | Carácter                       | 1 byte                 | \n",
    "| int    | Cantidad entera                | 2 bytes o una palabra  |\n",
    "| float  | Valor real en punto flotante   | 1 palabra (4 bytes)    |\n",
    "| double | Valores reales doble precisión | 2 palabras (9 bytes)   |\n",
    "| string | Cadena de carácteres           | 1 byte + X             |\n",
    "| array  | Colección de variables         | 1 byte + X             |\n",
    "| void   | Define una funcion sin valor   |------------------------|\n",
    "\n",
    "\n",
    "El tipado es una clasificación de los lenguajes de programación. Depende de como el lenguaje actua con los tipos de datos.\n",
    "Existen cuatro tipos:\n",
    "- Estático\n",
    "- Dinámico\n",
    "- Débil\n",
    "- Fuerte\n",
    "\n",
    "A su vez pueden correlacinarse en mayor o menor cantidad, un ejemplo gráfico podría se:\n",
    "\n",
    "|  | Debil| Fuerte|\n",
    "| -- | -- | -- |\n",
    "| **Diámico**  | PHP, JS | Python, erlang, Ruby\n",
    "| **Estático** | C, C++  | C#, Java  \n"
   ]
  }
 ],
 "metadata": {
  "kernelspec": {
   "display_name": "Python 3.10.5 64-bit (windows store)",
   "language": "python",
   "name": "python3"
  },
  "language_info": {
   "name": "python",
   "version": "3.10.5"
  },
  "orig_nbformat": 4,
  "vscode": {
   "interpreter": {
    "hash": "8087080aba26fb2bd6ac4781d5e8f5b1fcc58b66b12b9d11fb271d3c71b9e510"
   }
  }
 },
 "nbformat": 4,
 "nbformat_minor": 2
}
