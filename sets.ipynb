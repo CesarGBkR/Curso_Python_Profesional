{
 "cells": [
  {
   "cell_type": "markdown",
   "metadata": {},
   "source": [
    "## Sets\n",
    "\n",
    "Son **una colección desordenada de elementos únicos e inmutables.**\n",
    "\n",
    "Los sets se crean en Python de la siguiente manera:"
   ]
  },
  {
   "cell_type": "code",
   "execution_count": 1,
   "metadata": {},
   "outputs": [
    {
     "name": "stdout",
     "output_type": "stream",
     "text": [
      "my_set =  {3, 4, 5}\n",
      "my_set =  {False, True, 2.3, 'Hola'}\n",
      "my_set =  {3, 5}\n"
     ]
    },
    {
     "ename": "TypeError",
     "evalue": "unhashable type: 'list'",
     "output_type": "error",
     "traceback": [
      "\u001b[1;31m---------------------------------------------------------------------------\u001b[0m",
      "\u001b[1;31mTypeError\u001b[0m                                 Traceback (most recent call last)",
      "\u001b[1;32mf:\\Code\\JupytherNotebooks\\PythonAvanzado\\sets.ipynb Celda 2\u001b[0m in \u001b[0;36m<cell line: 7>\u001b[1;34m()\u001b[0m\n\u001b[0;32m      <a href='vscode-notebook-cell:/f%3A/Code/JupytherNotebooks/PythonAvanzado/sets.ipynb#ch0000003?line=4'>5</a>\u001b[0m my_set3 \u001b[39m=\u001b[39m {\u001b[39m3\u001b[39m,\u001b[39m3\u001b[39m,\u001b[39m5\u001b[39m}\n\u001b[0;32m      <a href='vscode-notebook-cell:/f%3A/Code/JupytherNotebooks/PythonAvanzado/sets.ipynb#ch0000003?line=5'>6</a>\u001b[0m \u001b[39mprint\u001b[39m(\u001b[39m\"\u001b[39m\u001b[39mmy_set = \u001b[39m\u001b[39m\"\u001b[39m, my_set3)\n\u001b[1;32m----> <a href='vscode-notebook-cell:/f%3A/Code/JupytherNotebooks/PythonAvanzado/sets.ipynb#ch0000003?line=6'>7</a>\u001b[0m my_set4 \u001b[39m=\u001b[39m {[\u001b[39m1\u001b[39m,\u001b[39m2\u001b[39m,\u001b[39m3\u001b[39m], \u001b[39m4\u001b[39m}\n\u001b[0;32m      <a href='vscode-notebook-cell:/f%3A/Code/JupytherNotebooks/PythonAvanzado/sets.ipynb#ch0000003?line=7'>8</a>\u001b[0m \u001b[39mprint\u001b[39m(\u001b[39m\"\u001b[39m\u001b[39mmy_set = \u001b[39m\u001b[39m\"\u001b[39m, my_set4)\n",
      "\u001b[1;31mTypeError\u001b[0m: unhashable type: 'list'"
     ]
    }
   ],
   "source": [
    "my_set = {3,4,5} # Es un Set básico\n",
    "print(\"my_set = \", my_set)\n",
    "my_set2 = {\"Hola\",2.3,False,True} # Es un Set compuesto que se imprime sin orden específico\n",
    "print(\"my_set = \", my_set2)\n",
    "my_set3 = {3,3,5} # Al momento de imprimirse se convierte en un set, comprimiendo los elementos repetidos\n",
    "print(\"my_set = \", my_set3)\n",
    "my_set4 = {[1,2,3], 4} # No es un set, contiene un elemento mutable, la lista, por esto devuelve un error\n",
    "print(\"my_set = \", my_set4)"
   ]
  },
  {
   "cell_type": "markdown",
   "metadata": {},
   "source": [
    "Los elementos que no son un set se pueden castear para convertirse en set\n",
    "\n",
    "**Ejemplo:**"
   ]
  },
  {
   "cell_type": "code",
   "execution_count": 3,
   "metadata": {},
   "outputs": [
    {
     "name": "stdout",
     "output_type": "stream",
     "text": [
      "{1, 2, 3, 4, 5}\n",
      "{1, 'Hola'}\n"
     ]
    }
   ],
   "source": [
    "my_list = [1,1,2,3,4,4,5]\n",
    "my_set = set(my_list) # Al castear la lista con SET se eliminan los elementos repetidos y se cambian los corchetes\n",
    "print(my_set)\n",
    "\n",
    "my_tuple = (\"Hola\",\"Hola\",\"Hola\",1)\n",
    "my_set2 = set(my_tuple)\n",
    "print(my_set2)"
   ]
  },
  {
   "cell_type": "markdown",
   "metadata": {},
   "source": [
    "También, podemos agregar un nuevo elemento a un set con ***.add***\n",
    "\n",
    "En cambio, si queremos agregar una serie de elementos, usaremos ***.update***\n",
    "\n",
    "En cualquiera de los dos casos, si se quiere agregar un elemento ya existente en el set, este se omitirá\n",
    "\n",
    "**Ejemplo:**"
   ]
  },
  {
   "cell_type": "code",
   "execution_count": 5,
   "metadata": {},
   "outputs": [
    {
     "name": "stdout",
     "output_type": "stream",
     "text": [
      "{1, 2, 3}\n",
      "{1, 2, 3, 4}\n",
      "{1, 2, 3, 4, 5}\n",
      "{1, 2, 3, 4, 5, 6, 7, 8}\n"
     ]
    }
   ],
   "source": [
    "my_set = {1,2,3}\n",
    "print(my_set)\n",
    "\n",
    "#Añadimos UN elemento\n",
    "my_set.add(4) \n",
    "print(my_set)\n",
    "\n",
    "# Añadir múltiples elemntos\n",
    "my_set.update([1,2,5]) #Si los elementos agregados se repiten en el set son omitidos\n",
    "print(my_set)\n",
    "\n",
    "# Aadir múltiples elementos\n",
    "my_set.update((1,7,2), {6,8})\n",
    "print(my_set)"
   ]
  },
  {
   "cell_type": "markdown",
   "metadata": {},
   "source": [
    "Por el contrario, si lo que queremos es remover elementos de un set, podemos emplear ***.discard*** \n",
    "\n",
    "***.discard*** tiene la propiedad de borrar elementos e intetnar borrar elementos inexistentes, en caso de que el elemento no se encuentre dentrodel set solamente se hará caso omiso.\n",
    "\n",
    "Otro método para eliminar elementos dentro de un set, es el método ***.remove***\n",
    "\n",
    "***.remove*** se diferencia de ***.discard*** al entregar un error Traceback al intentar remover un elemento inexistente.\n",
    "\n",
    "**Ejemplo:**"
   ]
  },
  {
   "cell_type": "code",
   "execution_count": 10,
   "metadata": {},
   "outputs": [
    {
     "name": "stdout",
     "output_type": "stream",
     "text": [
      "My set:\n",
      "{1, 2, 3, 4, 5, 6, 7}\n",
      ".discard borra un elemento existente\n",
      "{2, 3, 4, 5, 6, 7}\n",
      ".discard trata de borra un elemento existente\n",
      "{2, 3, 4, 5, 6, 7}\n",
      ".remove borra un elemento existente\n",
      "{3, 4, 5, 6, 7}\n",
      ".remove trata borra un elemento existente\n"
     ]
    },
    {
     "ename": "KeyError",
     "evalue": "10",
     "output_type": "error",
     "traceback": [
      "\u001b[1;31m---------------------------------------------------------------------------\u001b[0m",
      "\u001b[1;31mKeyError\u001b[0m                                  Traceback (most recent call last)",
      "\u001b[1;32mf:\\Code\\JupytherNotebooks\\PythonAvanzado\\sets.ipynb Celda 8\u001b[0m in \u001b[0;36m<cell line: 22>\u001b[1;34m()\u001b[0m\n\u001b[0;32m     <a href='vscode-notebook-cell:/f%3A/Code/JupytherNotebooks/PythonAvanzado/sets.ipynb#ch0000011?line=19'>20</a>\u001b[0m \u001b[39m# Trata de borrar un elemento inexistente\u001b[39;00m\n\u001b[0;32m     <a href='vscode-notebook-cell:/f%3A/Code/JupytherNotebooks/PythonAvanzado/sets.ipynb#ch0000011?line=20'>21</a>\u001b[0m \u001b[39mprint\u001b[39m(\u001b[39m\"\u001b[39m\u001b[39m.remove trata borra un elemento existente\u001b[39m\u001b[39m\"\u001b[39m)\n\u001b[1;32m---> <a href='vscode-notebook-cell:/f%3A/Code/JupytherNotebooks/PythonAvanzado/sets.ipynb#ch0000011?line=21'>22</a>\u001b[0m my_set\u001b[39m.\u001b[39;49mremove(\u001b[39m10\u001b[39;49m)\n\u001b[0;32m     <a href='vscode-notebook-cell:/f%3A/Code/JupytherNotebooks/PythonAvanzado/sets.ipynb#ch0000011?line=22'>23</a>\u001b[0m \u001b[39mprint\u001b[39m(my_set)\n",
      "\u001b[1;31mKeyError\u001b[0m: 10"
     ]
    }
   ],
   "source": [
    "my_set = {1,2,3,4,5,6,7}\n",
    "print(\"My set:\")\n",
    "print(my_set)\n",
    "\n",
    "# Borra un elemento existente\n",
    "my_set.discard(1)\n",
    "print(\".discard borra un elemento existente\")\n",
    "print(my_set)\n",
    "\n",
    "# Trata de borrar un elemento inexistente\n",
    "my_set.discard(10)\n",
    "print(\".discard trata de borra un elemento existente\")\n",
    "print(my_set)\n",
    "\n",
    "# Borra un elemento existente\n",
    "my_set.remove(2)\n",
    "print(\".remove borra un elemento existente\")\n",
    "print(my_set)\n",
    "\n",
    "# Trata de borrar un elemento inexistente\n",
    "print(\".remove trata borra un elemento existente\")\n",
    "my_set.remove(10)\n",
    "print(my_set)"
   ]
  },
  {
   "cell_type": "markdown",
   "metadata": {},
   "source": [
    "Junto a los métodos anteriores, tenemos ***.pop*** \n",
    "\n",
    "***.pop*** es un método que borra el primer elemento de un set\n",
    "\n",
    "En un caso drástico, tenemos ***.clear*** \n",
    "\n",
    "***.clear*** es un método que nos facilitará limpiar o borrar todo el contenido de un set\n",
    "\n",
    "**Ejemplo:**"
   ]
  },
  {
   "cell_type": "code",
   "execution_count": 15,
   "metadata": {},
   "outputs": [
    {
     "name": "stdout",
     "output_type": "stream",
     "text": [
      "{1, 2, 3, 4, 5, 6, 7}\n",
      "{2, 3, 4, 5, 6, 7}\n",
      "set()\n"
     ]
    }
   ],
   "source": [
    "my_set = {1,2,3,4,5,6,7}\n",
    "print(my_set)\n",
    "\n",
    "# Borrar el primer elemento del set\n",
    "my_set.pop()\n",
    "print(my_set)\n",
    "\n",
    "# Limpiar el set\n",
    "my_set.clear()\n",
    "print(my_set)"
   ]
  },
  {
   "cell_type": "markdown",
   "metadata": {},
   "source": [
    "### Operaciones con sets\n",
    "\n",
    "Los operadores pueden ser usados como elemento de una operación, siempre y cuando se use su respectivo operador.\n",
    "\n",
    "Para la suma de dos sets, se usa el operador ***|***\n",
    "\n",
    "Para retornar los elementos en común entre sets, se usa el operador ***&***\n",
    "\n",
    "Podemos restar a un set los elementos que contiene otro set con el operador ***-***\n",
    "\n",
    "También podemos retornar todo el contenido de dos sets menos los elementos que compartan con el operador ***^***\n",
    "\n",
    "**Ejemplo:**"
   ]
  },
  {
   "cell_type": "code",
   "execution_count": 20,
   "metadata": {},
   "outputs": [
    {
     "name": "stdout",
     "output_type": "stream",
     "text": [
      "{1, 2, 3, 4, 5}\n",
      "{5}\n",
      "{3, 4}\n",
      "{1, 2, 3, 4}\n"
     ]
    }
   ],
   "source": [
    "my_set = {3,4,5}\n",
    "my_set2 = {1,2,5}\n",
    "\n",
    "# Uniendo sets con |\n",
    "my_set3 = my_set | my_set2\n",
    "print(my_set3)\n",
    "\n",
    "# Retornando los elementos en coún con &\n",
    "my_set3 = my_set & my_set2\n",
    "print(my_set3)\n",
    "\n",
    "# Restando a un set los elementos que contiene otro set con -\n",
    "my_set3 = my_set - my_set2\n",
    "print(my_set3)\n",
    "\n",
    "# Retornando el contenido de ambos sets menos los elementos en comun con ^\n",
    "my_set3 = my_set ^ my_set2\n",
    "print(my_set3)"
   ]
  }
 ],
 "metadata": {
  "kernelspec": {
   "display_name": "Python 3.9.12 ('base')",
   "language": "python",
   "name": "python3"
  },
  "language_info": {
   "codemirror_mode": {
    "name": "ipython",
    "version": 3
   },
   "file_extension": ".py",
   "mimetype": "text/x-python",
   "name": "python",
   "nbconvert_exporter": "python",
   "pygments_lexer": "ipython3",
   "version": "3.9.12"
  },
  "orig_nbformat": 4,
  "vscode": {
   "interpreter": {
    "hash": "893bc00c7d71cea6cec0925124a58befc248cc84d867c45f41f4f880e026ef2f"
   }
  }
 },
 "nbformat": 4,
 "nbformat_minor": 2
}
