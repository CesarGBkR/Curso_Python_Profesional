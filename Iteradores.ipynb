{
 "cells": [
  {
   "cell_type": "markdown",
   "metadata": {},
   "source": [
    "## Iteradores\n",
    "\n",
    "Los iteradores **son los objetos a los que se deben de transformar los tipos para poder ser iterados dentro de una función.**\n",
    "\n",
    "**Ejemplo:**\n",
    "\n"
   ]
  },
  {
   "cell_type": "code",
   "execution_count": null,
   "metadata": {},
   "outputs": [],
   "source": [
    "# Creamos un iterador a partir de una lista con la funcion ITER\n",
    "my_list = [1,2,3,4,5]\n",
    "my_list_iter = iter(my_list)\n",
    "\n",
    "#Interando un iterador\n",
    "print(next(my_list_iter))\n",
    "\n",
    "# Cuando no quedan datos la excepción StopIteration es elevada\n",
    "\n",
    "# Para listas con complejidad elevada se utilizaría un ciclo infinito con WHILE\n",
    "\n",
    "while True:\n",
    "    try:\n",
    "        element = next(my_list_iter)\n",
    "        print(element)\n",
    "    except StopIteration:\n",
    "        break"
   ]
  },
  {
   "cell_type": "markdown",
   "metadata": {},
   "source": [
    "Con lo mostrado arriba, podemos convertir un tipo en un iterador, pero **en una situación donde nosotros quedramos crear un iterador personalizado será necesario crear una clase.**\n",
    "\n",
    "**Ejemplo:**"
   ]
  },
  {
   "cell_type": "code",
   "execution_count": null,
   "metadata": {},
   "outputs": [],
   "source": [
    "class EvenNumbers:\n",
    "    # Clase que implementa un iterador de todos los números pares, o los números pares hasta un máximo X\n",
    "    def __init__(self, max=None): #None define el máximo\n",
    "        self.max = max\n",
    "    def __iter__(self):\n",
    "        self.num = 0\n",
    "        return self\n",
    "    def __next__(self):\n",
    "        if not self.max or self.num <= self.max:\n",
    "            result = self.num\n",
    "            self.num += 2\n",
    "            return result\n",
    "        else:\n",
    "            raise StopIteration"
   ]
  }
 ],
 "metadata": {
  "kernelspec": {
   "display_name": "Python 3.10.2 ('venv': venv)",
   "language": "python",
   "name": "python3"
  },
  "language_info": {
   "name": "python",
   "version": "3.10.2"
  },
  "orig_nbformat": 4,
  "vscode": {
   "interpreter": {
    "hash": "18cefdf8637a1132786556377346bb47a17c2b69126d03d285db2fd1c59c87db"
   }
  }
 },
 "nbformat": 4,
 "nbformat_minor": 2
}
